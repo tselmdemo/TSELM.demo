{
 "cells": [
  {
   "cell_type": "code",
   "execution_count": 14,
   "metadata": {},
   "outputs": [],
   "source": [
    "import torchaudio \n",
    "import os\n",
    "from IPython.display import Audio"
   ]
  },
  {
   "cell_type": "code",
   "execution_count": 35,
   "metadata": {},
   "outputs": [],
   "source": [
    "OUTPUT_DIR = \"/home/bltang/work/publication/demo_site/TSELM.demo/assets/demo/libri2mix-audio-table/5\"\n",
    "os.makedirs(OUTPUT_DIR, exist_ok=True)\n",
    "AUDIO = \"1221-135766-0013_1284-1181-0013.wav\"\n",
    "SR = 16000\n",
    "START = 0 \n",
    "END = 3"
   ]
  },
  {
   "cell_type": "code",
   "execution_count": 36,
   "metadata": {},
   "outputs": [],
   "source": [
    "def save_audio(name, audio, start, end):\n",
    "    if end == None:\n",
    "        audio = audio[:, int(SR * start) : ]\n",
    "    else:\n",
    "        audio = audio[:, int(SR * start): int(SR * end)]\n",
    "    torchaudio.save(f\"{OUTPUT_DIR}/{name}\", audio, 16000)"
   ]
  },
  {
   "cell_type": "code",
   "execution_count": 37,
   "metadata": {},
   "outputs": [],
   "source": [
    "## Mixture\n",
    "audio_name = \"mixture.wav\"\n",
    "audio, rate = torchaudio.load(f\"/home/bltang/work/publication/data/libri2mix_test/raw/mix_clean/{AUDIO}\")\n",
    "save_audio(audio_name, audio, START, END)\n",
    "## Target\n",
    "audio_name = \"target.wav\"\n",
    "audio, rate = torchaudio.load(f\"/home/bltang/work/publication/data/libri2mix_test/raw/s1/{AUDIO}\")\n",
    "save_audio(audio_name, audio,START, END)\n",
    "## Reference Audio\n",
    "audio_name=\"reference.wav\"\n",
    "audio, rate = torchaudio.load(f\"/home/bltang/work/publication/data/libri2mix_test/raw/aux_s1/{AUDIO}\")\n",
    "save_audio(audio_name, audio, START, END)\n",
    "## SPEX_PLUS\n",
    "audio_name = \"spex_plus.wav\"\n",
    "audio, rate = torchaudio.load(f\"/home/bltang/work/publication/data/libri2mix_test/spex/audio/{AUDIO}\")\n",
    "save_audio(audio_name, audio, START, END)\n",
    "## TSELM_L\n",
    "audio_name = \"tselm_l.wav\"\n",
    "audio, rate = torchaudio.load(f\"/home/bltang/work/publication/data/libri2mix_test/tselm_l/audio/{AUDIO}\")\n",
    "save_audio(audio_name, audio, START, END)\n",
    "## TSELM-L-Hybrid\n",
    "audio_name=\"tselm_l_hybrid.wav\"\n",
    "audio, rate = torchaudio.load(f\"/home/bltang/work/publication/data/libri2mix_test/tselm_l_hybrid/audio/{AUDIO}\")\n",
    "save_audio(audio_name, audio, START, END)\n",
    "## Continuous-WavLM-L6\n",
    "audio_name=\"continuous_wavlm_l6.wav\"\n",
    "audio, rate = torchaudio.load(f\"/home/bltang/work/publication/data/libri2mix_test/continuous_wavlm_l6/output/{AUDIO}\")\n",
    "save_audio(audio_name, audio, START, END)"
   ]
  }
 ],
 "metadata": {
  "kernelspec": {
   "display_name": "Python 3",
   "language": "python",
   "name": "python3"
  },
  "language_info": {
   "codemirror_mode": {
    "name": "ipython",
    "version": 3
   },
   "file_extension": ".py",
   "mimetype": "text/x-python",
   "name": "python",
   "nbconvert_exporter": "python",
   "pygments_lexer": "ipython3",
   "version": "3.8.10"
  }
 },
 "nbformat": 4,
 "nbformat_minor": 2
}
